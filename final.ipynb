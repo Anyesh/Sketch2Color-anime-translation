{
  "nbformat": 4,
  "nbformat_minor": 0,
  "metadata": {
    "kernelspec": {
      "display_name": "Python 3",
      "language": "python",
      "name": "python3"
    },
    "language_info": {
      "codemirror_mode": {
        "name": "ipython",
        "version": 3
      },
      "file_extension": ".py",
      "mimetype": "text/x-python",
      "name": "python",
      "nbconvert_exporter": "python",
      "pygments_lexer": "ipython3",
      "version": "3.6.8"
    },
    "colab": {
      "name": "final.ipynb",
      "provenance": [],
      "collapsed_sections": [],
      "include_colab_link": true
    }
  },
  "cells": [
    {
      "cell_type": "markdown",
      "metadata": {
        "id": "view-in-github",
        "colab_type": "text"
      },
      "source": [
        "<a href=\"https://colab.research.google.com/github/sanjay235/Sketch2Color-anime-translation/blob/master/final.ipynb\" target=\"_parent\"><img src=\"https://colab.research.google.com/assets/colab-badge.svg\" alt=\"Open In Colab\"/></a>"
      ]
    },
    {
      "cell_type": "markdown",
      "metadata": {
        "id": "oIEFrzslIJlp",
        "colab_type": "text"
      },
      "source": [
        "## 1. Importing libraries and data:"
      ]
    },
    {
      "cell_type": "code",
      "metadata": {
        "id": "vDvagxVvIaWS",
        "colab_type": "code",
        "colab": {}
      },
      "source": [
        "from tensorflow.keras.models import save_model, load_model\n",
        "import matplotlib.pyplot as plt\n",
        "from pyunpack import Archive\n",
        "import numpy as np\n",
        "import glob"
      ],
      "execution_count": 0,
      "outputs": []
    },
    {
      "cell_type": "code",
      "metadata": {
        "id": "XaWwSnqXIJlr",
        "colab_type": "code",
        "colab": {}
      },
      "source": [
        "\"\"\"\n",
        "Getting access to the google drive in colab for the dataset. \n",
        "\"\"\"\n",
        "from google.colab import drive\n",
        "drive.mount('/content/drive')"
      ],
      "execution_count": 0,
      "outputs": []
    },
    {
      "cell_type": "code",
      "metadata": {
        "id": "1xhBTn_oIJlv",
        "colab_type": "code",
        "colab": {}
      },
      "source": [
        "\"\"\"\n",
        "Extracting the data from compressed zip file.\n",
        "\"\"\"\n",
        "Archive('drive/My Drive/Sketch2Image/AnimeTestData.zip').extractall('.')"
      ],
      "execution_count": 0,
      "outputs": []
    },
    {
      "cell_type": "code",
      "metadata": {
        "id": "eQjfZ0kaMq2P",
        "colab_type": "code",
        "colab": {}
      },
      "source": [
        "\"\"\"\n",
        "Generating the paths for the black-and-white sketches.\n",
        "\"\"\"\n",
        "sketch_paths = glob.glob('ValSketches/*.png')\n",
        "\n",
        "sketch_paths = np.array(sketch_paths)"
      ],
      "execution_count": 0,
      "outputs": []
    },
    {
      "cell_type": "markdown",
      "metadata": {
        "id": "eh18QPwMIJly",
        "colab_type": "text"
      },
      "source": [
        "## 2. Generating the colored images:"
      ]
    },
    {
      "cell_type": "code",
      "metadata": {
        "id": "K8Y-iNTzqdIY",
        "colab_type": "code",
        "colab": {}
      },
      "source": [
        "# [4581, 8596, 7913, 9207, 9274, 9403, 6824, 9013, 10867, 2913]"
      ],
      "execution_count": 0,
      "outputs": []
    },
    {
      "cell_type": "code",
      "metadata": {
        "id": "F11JN_YpKAWB",
        "colab_type": "code",
        "colab": {}
      },
      "source": [
        "def final_model(path):\n",
        "  \"\"\"\n",
        "  A function to load the keras model from the given path.\n",
        "\n",
        "  Parameters:\n",
        "    path (string): The absolute path to the model to be loaded.\n",
        "\n",
        "  Returns:\n",
        "    keras.Model: The loaded keras model. \n",
        "  \"\"\"\n",
        "\n",
        "  return load_model(path)\n",
        "\n",
        "def predict(test_skets, generator_path):\n",
        "  \"\"\"\n",
        "  A function for predicting colors of input sketches using trained generator.\n",
        "\n",
        "  Parameters:\n",
        "    test_skets (numpy.array): The black-and-white sketches.\n",
        "  \"\"\"\n",
        "  \n",
        "  generator = final_model(generator_path)\n",
        "\n",
        "  pred = generator.predict(test_skets)\n",
        "\n",
        "\n",
        "  # Rescaling the generated color images and input sketches to the range [0, 255].\n",
        "  pred = (pred+1)/2.0\n",
        "  temp_skets = (test_skets+1)/2.0\n",
        "\n",
        "  # Displaying the generated color images from the generator.\n",
        "  f, a = plt.subplots(test_skets.shape[0], 2, figsize=(12, 60))\n",
        "  a = a.flatten()\n",
        "\n",
        "  idx = 0\n",
        "  \n",
        "  for sket, pic in zip(test_skets, pred):\n",
        "    a[idx].imshow(sket)\n",
        "    a[idx].axis('off')\n",
        "\n",
        "    a[idx+1].imshow(pic)\n",
        "    a[idx+1].axis('off')\n",
        "    \n",
        "    idx += 2\n",
        "\n",
        "  plt.subplots_adjust(wspace=.1, hspace=.1)\n",
        "  plt.show()"
      ],
      "execution_count": 0,
      "outputs": []
    },
    {
      "cell_type": "code",
      "metadata": {
        "id": "Iq2RqtwHLwEm",
        "colab_type": "code",
        "colab": {}
      },
      "source": [
        "\"\"\"\n",
        "Loading the random `K` test sketches into the memory.\n",
        "\"\"\"\n",
        "k = 10\n",
        "sketches = []\n",
        "\n",
        "for sket in sketch_paths[np.random.randint(0, sketch_paths.shape[0], k)]:\n",
        "    sketches.append(np.array(Image.open(sket).convert('RGB')))\n",
        "\n",
        "sketches = np.array(sketches, dtype='float32')/127.5 - 1"
      ],
      "execution_count": 0,
      "outputs": []
    },
    {
      "cell_type": "code",
      "metadata": {
        "id": "aQTBsO_1L8Mw",
        "colab_type": "code",
        "colab": {}
      },
      "source": [
        "predict(sketches, generator_path='generator_epoch_30.h5')"
      ],
      "execution_count": 0,
      "outputs": []
    }
  ]
}